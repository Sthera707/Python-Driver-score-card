{
 "cells": [
  {
   "cell_type": "markdown",
   "id": "5ce04eb9",
   "metadata": {},
   "source": [
    "Importing all the libraries and Data that will be neccessary for the analysis"
   ]
  },
  {
   "cell_type": "code",
   "execution_count": 1,
   "id": "8b5ae1f8",
   "metadata": {},
   "outputs": [],
   "source": [
    "import numpy as np\n",
    "import pandas as pd\n",
    "import matplotlib.pyplot as plt\n",
    "import seaborn as sns\n",
    "import sklearn\n",
    "\n",
    "file_path = r'C:\\Users\\SthembisoM\\Desktop\\Karl\\Driver score card\\Trackmatic details.csv'\n",
    "\n",
    "df = pd.read_csv(file_path)"
   ]
  },
  {
   "cell_type": "markdown",
   "id": "1de94b73",
   "metadata": {},
   "source": [
    "Data Exploration: Check missing values and duplicates on the dataframe"
   ]
  },
  {
   "cell_type": "code",
   "execution_count": 2,
   "id": "40bf1995",
   "metadata": {},
   "outputs": [
    {
     "name": "stdout",
     "output_type": "stream",
     "text": [
      "No duplicate rows found in the dataset.\n",
      "Missing values in each column:\n",
      "Route Channel                         1\n",
      "Customer Channel                      3\n",
      "Depot Code                            3\n",
      "Depot                                 3\n",
      "Route No.                             3\n",
      "Route Status                          3\n",
      "Shipment                          33446\n",
      "Cases                                 2\n",
      "Weight                                2\n",
      "Mass                                  2\n",
      "Driver                                3\n",
      "Fleet Number                        298\n",
      "Registration                          3\n",
      "Customer Code                         3\n",
      "Customer                              4\n",
      "Major Group                           4\n",
      "Major Chain                           4\n",
      "Requested Delivery Date               3\n",
      "Planned Route Start                   3\n",
      "Planned Route End                     3\n",
      "Actual Route Start                    3\n",
      "Actual Route End                      3\n",
      "Actual Route Duration                 3\n",
      "Planned Arrival                       3\n",
      "Arrival Strike Flag                   3\n",
      "Arrival Status                        3\n",
      "Actual Arrival                        3\n",
      "Planned Departure                     3\n",
      "Departure Strike Flag                 3\n",
      "Departure Status                      3\n",
      "Actual Departure                      3\n",
      "Planned MST                           3\n",
      "Actual TAT                            3\n",
      "Actual TAT/Case (sec)                 2\n",
      "TAT Variance                          3\n",
      "Adj Actual Wait TAT                   3\n",
      "Adj Actual Off-Load TAT               3\n",
      "Adj Actual Doc TAT                    3\n",
      "Off-Loading TAT per Case (sec)        3\n",
      "CSD Planned after 6pm                 3\n",
      "CSD Arrived after 6pm                 3\n",
      "PSD Planned after 4pm                 3\n",
      "PSD Arrived after 4pm                 3\n",
      "Mall Split                            3\n",
      "Outlier                               3\n",
      "Exception                             3\n",
      "dtype: int64\n"
     ]
    }
   ],
   "source": [
    "duplicate_rows = df[df.duplicated()]\n",
    "if not duplicate_rows.empty:\n",
    "    print(\"Duplicate rows found:\")\n",
    "    print(duplicate_rows)\n",
    "else:\n",
    "    print(\"No duplicate rows found in the dataset.\")\n",
    "\n",
    "missing_values = df.isna().sum()\n",
    "print(\"Missing values in each column:\")\n",
    "print(missing_values)"
   ]
  },
  {
   "cell_type": "markdown",
   "id": "4bb4fd49",
   "metadata": {},
   "source": [
    "Drop missing data because the trackmatic detail dataset doesnt have any shipment numbers."
   ]
  },
  {
   "cell_type": "code",
   "execution_count": 3,
   "id": "676d9f0d",
   "metadata": {},
   "outputs": [
    {
     "name": "stdout",
     "output_type": "stream",
     "text": [
      "Missing values in each column:\n",
      "Route Channel                       0\n",
      "Customer Channel                    0\n",
      "Depot Code                          0\n",
      "Depot                               0\n",
      "Route No.                           0\n",
      "Route Status                        0\n",
      "Cases                               0\n",
      "Weight                              0\n",
      "Mass                                0\n",
      "Driver                              0\n",
      "Fleet Number                      295\n",
      "Registration                        0\n",
      "Customer Code                       0\n",
      "Customer                            0\n",
      "Major Group                         0\n",
      "Major Chain                         0\n",
      "Requested Delivery Date             0\n",
      "Planned Route Start                 0\n",
      "Planned Route End                   0\n",
      "Actual Route Start                  0\n",
      "Actual Route End                    0\n",
      "Actual Route Duration               0\n",
      "Planned Arrival                     0\n",
      "Arrival Strike Flag                 0\n",
      "Arrival Status                      0\n",
      "Actual Arrival                      0\n",
      "Planned Departure                   0\n",
      "Departure Strike Flag               0\n",
      "Departure Status                    0\n",
      "Actual Departure                    0\n",
      "Planned MST                         0\n",
      "Actual TAT                          0\n",
      "Actual TAT/Case (sec)               0\n",
      "TAT Variance                        0\n",
      "Adj Actual Wait TAT                 0\n",
      "Adj Actual Off-Load TAT             0\n",
      "Adj Actual Doc TAT                  0\n",
      "Off-Loading TAT per Case (sec)      0\n",
      "CSD Planned after 6pm               0\n",
      "CSD Arrived after 6pm               0\n",
      "PSD Planned after 4pm               0\n",
      "PSD Arrived after 4pm               0\n",
      "Mall Split                          0\n",
      "Outlier                             0\n",
      "Exception                           0\n",
      "dtype: int64\n"
     ]
    }
   ],
   "source": [
    "df = df.drop(columns=['Shipment'])\n",
    "df = df.dropna(subset=['Driver', 'Customer'])\n",
    "missing_values = df.isna().sum()\n",
    "print(\"Missing values in each column:\")\n",
    "print(missing_values)"
   ]
  },
  {
   "cell_type": "markdown",
   "id": "a92ed3a1",
   "metadata": {},
   "source": [
    "Correct datatypes"
   ]
  },
  {
   "cell_type": "code",
   "execution_count": 4,
   "id": "2d171de1",
   "metadata": {},
   "outputs": [
    {
     "name": "stdout",
     "output_type": "stream",
     "text": [
      "Route Channel                             object\n",
      "Customer Channel                          object\n",
      "Depot Code                               float64\n",
      "Depot                                     object\n",
      "Route No.                                 object\n",
      "Route Status                              object\n",
      "Cases                                    float64\n",
      "Weight                                   float64\n",
      "Mass                                     float64\n",
      "Driver                                    object\n",
      "Fleet Number                              object\n",
      "Registration                              object\n",
      "Customer Code                            float64\n",
      "Customer                                  object\n",
      "Major Group                               object\n",
      "Major Chain                               object\n",
      "Requested Delivery Date           datetime64[ns]\n",
      "Planned Route Start               datetime64[ns]\n",
      "Planned Route End                 datetime64[ns]\n",
      "Actual Route Start                datetime64[ns]\n",
      "Actual Route End                  datetime64[ns]\n",
      "Actual Route Duration             datetime64[ns]\n",
      "Planned Arrival                   datetime64[ns]\n",
      "Arrival Strike Flag                      float64\n",
      "Arrival Status                            object\n",
      "Actual Arrival                    datetime64[ns]\n",
      "Planned Departure                 datetime64[ns]\n",
      "Departure Strike Flag                    float64\n",
      "Departure Status                          object\n",
      "Actual Departure                  datetime64[ns]\n",
      "Planned MST                       datetime64[ns]\n",
      "Actual TAT                        datetime64[ns]\n",
      "Actual TAT/Case (sec)                    float64\n",
      "TAT Variance                              object\n",
      "Adj Actual Wait TAT                       object\n",
      "Adj Actual Off-Load TAT                   object\n",
      "Adj Actual Doc TAT                        object\n",
      "Off-Loading TAT per Case (sec)           float64\n",
      "CSD Planned after 6pm                    float64\n",
      "CSD Arrived after 6pm                    float64\n",
      "PSD Planned after 4pm                    float64\n",
      "PSD Arrived after 4pm                    float64\n",
      "Mall Split                               float64\n",
      "Outlier                                  float64\n",
      "Exception                                float64\n",
      "dtype: object\n"
     ]
    }
   ],
   "source": [
    "\n",
    "# List of columns with timestamps to convert\n",
    "timestamp_columns = ['Requested Delivery Date', 'Planned Route Start', 'Planned Route End', 'Actual Route Start', 'Actual Route End', 'Actual Arrival', 'Planned Departure', 'Actual Departure', 'Planned MST', 'Actual TAT', 'Planned Arrival', 'Actual Route Duration']\n",
    "\n",
    "# Loop through each timestamp column and convert its data type\n",
    "for column in timestamp_columns:\n",
    "    df[column] = pd.to_datetime(df[column], errors='coerce')\n",
    "\n",
    "# Optional: Check the data types of the columns after conversion\n",
    "print(df.dtypes)"
   ]
  },
  {
   "cell_type": "code",
   "execution_count": null,
   "id": "1ad24b98",
   "metadata": {},
   "outputs": [],
   "source": []
  },
  {
   "cell_type": "code",
   "execution_count": 5,
   "id": "098ed0a7",
   "metadata": {},
   "outputs": [
    {
     "name": "stdout",
     "output_type": "stream",
     "text": [
      "Closed\n",
      "Active\n",
      "Requested\n"
     ]
    }
   ],
   "source": [
    "\n",
    "unique_route_statuses = df['Route Status'].unique()\n",
    "\n",
    "# Print the unique strings\n",
    "for status in unique_route_statuses:\n",
    "    print(status)"
   ]
  },
  {
   "cell_type": "code",
   "execution_count": null,
   "id": "6544ec43",
   "metadata": {},
   "outputs": [],
   "source": [
    "df = df[~df['Route Status'].isin(['Active', 'Requested'])]\n",
    "unique_route_statuses = df['Route Status'].unique()\n",
    "\n",
    "# Print the unique strings\n",
    "for status in unique_route_statuses:\n",
    "    print(status)"
   ]
  },
  {
   "cell_type": "markdown",
   "id": "5b700e45",
   "metadata": {},
   "source": [
    "Drop All Pull Forward or rolled over routes"
   ]
  },
  {
   "cell_type": "code",
   "execution_count": null,
   "id": "c04bfd09",
   "metadata": {},
   "outputs": [],
   "source": [
    "condition = df['Actual Route Start'].dt.date != df['Actual Route End'].dt.date\n",
    "\n",
    "# Use the condition to exclude rows where Planned and Actual Start Dates are different\n",
    "df = df[~condition]"
   ]
  },
  {
   "cell_type": "markdown",
   "id": "b600b04d",
   "metadata": {},
   "source": [
    "Drop All sleepouts"
   ]
  },
  {
   "cell_type": "code",
   "execution_count": null,
   "id": "01a0867c",
   "metadata": {},
   "outputs": [],
   "source": [
    "condition = df['Planned Route Start'].dt.date != df['Planned Route End'].dt.date\n",
    "\n",
    "df = df[~condition]\n",
    "\n",
    "condition = (df['Planned Route Start'].dt.date == df['Planned Route End'].dt.date)\n",
    "\n",
    "# Use the condition to exclude rows where Planned Start Date and Planned End Date are different\n",
    "df = df[condition]"
   ]
  },
  {
   "cell_type": "code",
   "execution_count": null,
   "id": "95816f7e",
   "metadata": {},
   "outputs": [],
   "source": []
  },
  {
   "cell_type": "code",
   "execution_count": null,
   "id": "112c49b2",
   "metadata": {},
   "outputs": [],
   "source": [
    "df = df[df['Planned Route Start'].dt.date == df['Actual Route Start'].dt.date]\n",
    "df['Departure Time Variance'] = df['Actual Route Start'] - df['Planned Route Start']\n",
    "\n",
    "df['Departure Time Variance (minutes)'] = df['Departure Time Variance'].dt.total_seconds() / 60\n",
    "print(df['Departure Time Variance (minutes)'])"
   ]
  },
  {
   "cell_type": "code",
   "execution_count": null,
   "id": "a63abe21",
   "metadata": {},
   "outputs": [],
   "source": []
  },
  {
   "cell_type": "code",
   "execution_count": null,
   "id": "16de9ca1",
   "metadata": {
    "scrolled": true
   },
   "outputs": [],
   "source": [
    "columns_to_drop = [\n",
    "    'Adj Actual Wait TAT',\n",
    "    'Adj Actual Off-Load TAT',\n",
    "    'Adj Actual Doc TAT',\n",
    "    'Off-Loading TAT per Case (sec)',\n",
    "    'CSD Planned after 6pm',\n",
    "    'CSD Arrived after 6pm',\n",
    "    'PSD Planned after 4pm',\n",
    "    'PSD Arrived after 4pm',\n",
    "    'Mall Split',\n",
    "    'Outlier',\n",
    "    'Exception']\n",
    "df = df.drop(columns=columns_to_drop)"
   ]
  },
  {
   "cell_type": "code",
   "execution_count": null,
   "id": "c85ac9c0",
   "metadata": {},
   "outputs": [],
   "source": [
    "\n",
    "condition = (df['Actual Route Duration'].dt.hour * 60 + df['Actual Route Duration'].dt.minute) >= 60\n",
    "\n",
    "# Use the condition to exclude rows with a Trip Duration less than 1 hour in the original DataFrame\n",
    "df = df[condition]"
   ]
  },
  {
   "cell_type": "code",
   "execution_count": null,
   "id": "564a0382",
   "metadata": {},
   "outputs": [],
   "source": [
    "condition = ~((df['Planned Route Start'].dt.hour >= 7) | (df['Planned Route Start'].dt.hour < 1))\n",
    "\n",
    "# Use the condition to exclude rows with Actual Start Time between 13:00 and 01:00\n",
    "df = df[condition]"
   ]
  },
  {
   "cell_type": "code",
   "execution_count": null,
   "id": "a2d8f56f",
   "metadata": {},
   "outputs": [],
   "source": [
    "condition = ~((df['Actual Route Start'].dt.hour >= 10) | (df['Actual Route Start'].dt.hour < 1))\n",
    "\n",
    "#Use the condition to exclude rows with Actual Start Time between 13:00 and 01:00\n",
    "df = df[condition]"
   ]
  },
  {
   "cell_type": "code",
   "execution_count": null,
   "id": "0eadf0f3",
   "metadata": {},
   "outputs": [],
   "source": []
  },
  {
   "cell_type": "code",
   "execution_count": null,
   "id": "c8455c8d",
   "metadata": {},
   "outputs": [],
   "source": [
    "# Find the index of the row with the maximum 'Departure Time Variance (minutes)'\n",
    "max_idx = df['Departure Time Variance (minutes)'].idxmax()\n",
    "\n",
    "# Find the index of the row with the minimum 'Departure Time Variance (minutes)'\n",
    "min_idx = df['Departure Time Variance (minutes)'].idxmin()\n",
    "\n",
    "# Access the rows with the maximum and minimum values\n",
    "max_row = df.loc[max_idx]\n",
    "min_row = df.loc[min_idx]\n",
    "\n",
    "# Print the rows\n",
    "print(\"Row with Maximum Variance:\")\n",
    "print(max_row)\n",
    "\n",
    "print(\"\\nRow with Minimum Variance:\")\n",
    "print(min_row)\n",
    "\n",
    "\n",
    "max_variance = df['Departure Time Variance (minutes)'].max()\n",
    "min_variance = df['Departure Time Variance (minutes)'].min()\n",
    "\n",
    "print(f\"Maximum Variance: {max_variance} minutes\")\n",
    "print(f\"Minimum Variance: {min_variance} minutes\")"
   ]
  },
  {
   "cell_type": "code",
   "execution_count": null,
   "id": "8d5d0282",
   "metadata": {},
   "outputs": [],
   "source": [
    "variance_stats = df['Departure Time Variance (minutes)'].describe()\n",
    "print(variance_stats)"
   ]
  },
  {
   "cell_type": "code",
   "execution_count": null,
   "id": "3871067e",
   "metadata": {},
   "outputs": [],
   "source": [
    "df = df['Departure Time Variance (minutes)']\n",
    "\n",
    "# Create a histogram with specified number of bins (you can adjust this)\n",
    "plt.hist(df, bins=20, edgecolor='k')\n",
    "\n",
    "# Add labels and a title\n",
    "plt.xlabel('Departure Time Variance (minutes)')\n",
    "plt.ylabel('Frequency')\n",
    "plt.title('Histogram of Departure Time Variance')\n",
    "\n",
    "# Show the histogram\n",
    "plt.show()"
   ]
  },
  {
   "cell_type": "markdown",
   "id": "00b6a7ff",
   "metadata": {},
   "source": [
    "Based on these statistics:\n",
    "\n",
    "The mean departure time variance being positive (8.38 minutes) suggests that, on average, departures tend to be slightly later than planned.\n",
    "\n",
    "The standard deviation being relatively large (47.49 minutes) indicates a wide spread of departure time variances, with some instances of significant delays and early departures.\n",
    "\n",
    "The presence of negative values (e.g., minimum of -255.63 minutes) indicates instances where departures occurred earlier than planned.\n",
    "\n",
    "The maximum departure time variance of 478.35 minutes suggests that there are cases of substantial delays in departures.\n",
    "\n",
    "In conclucsion I am satisfied with the data quality."
   ]
  },
  {
   "cell_type": "markdown",
   "id": "246d49b6",
   "metadata": {},
   "source": [
    "Creating Category for dispatching pattern"
   ]
  },
  {
   "cell_type": "code",
   "execution_count": null,
   "id": "22d00e27",
   "metadata": {},
   "outputs": [],
   "source": [
    "# Convert 'Planned Route Start' and 'Actual Route Start' columns to datetime format\n",
    "df['Planned Route Start'] = pd.to_datetime(df['Planned Route Start'])\n",
    "df['Actual Route Start'] = pd.to_datetime(df['Actual Route Start'])\n",
    "\n",
    "# Filter the DataFrame based on date comparison\n",
    "df = df[df['Planned Route Start'].dt.date == df['Actual Route Start'].dt.date]\n",
    "\n",
    "# Continue with the calculations and categorizations\n",
    "\n",
    "# Filter the DataFrame based on date comparison\n",
    "#df = df[df['Planned Route Start'].dt.date == df['Actual Route Start'].dt.date]\n",
    "\n",
    "# Calculate 'Departure Time Variance' and 'Departure Time Variance (minutes)'\n",
    "df['Departure Time Variance'] = df['Actual Route Start'] - df['Planned Route Start']\n",
    "df['Departure Time Variance (minutes)'] = df['Departure Time Variance'].dt.total_seconds() / 60\n",
    "\n",
    "# Define the categorization function\n",
    "def categorize_departure_variance(minutes):\n",
    "    if minutes <= -120:\n",
    "        return 'Dispatched 2hrs+ Earlier'\n",
    "    elif minutes > -120 and minutes <= -60:\n",
    "        return 'Dispatched 1-2 hrs early'\n",
    "    elif minutes > -60 and minutes <= -30:\n",
    "        return 'Dispatched 30min-1hr early'\n",
    "    elif minutes > -30 and minutes <= 30:\n",
    "        return 'On Time'\n",
    "    elif minutes > 30 and minutes <= 60:\n",
    "        return 'Dispatched 30min-1hr late'\n",
    "    elif minutes > 60 and minutes < 120:\n",
    "        return 'Dispatched 1hr-2hrs late'\n",
    "    else:\n",
    "        return 'Dispatched 2hrs+ late'\n",
    "\n",
    "# Apply the custom function to create a new column\n",
    "df['Dispatch Variance Category'] = df['Departure Time Variance (minutes)'].apply(categorize_departure_variance)\n",
    "\n",
    "# Display the DataFrame with the new category column\n",
    "print(df[['Departure Time Variance (minutes)', 'Dispatch Variance Category']])\n"
   ]
  },
  {
   "cell_type": "code",
   "execution_count": null,
   "id": "e5605227",
   "metadata": {},
   "outputs": [],
   "source": [
    "# Convert 'Planned Route End' and 'Actual Route End' columns to datetime format\n",
    "df['Planned Route End'] = pd.to_datetime(df['Planned Route End'])\n",
    "df['Actual Route End'] = pd.to_datetime(df['Actual Route End'])\n",
    "\n",
    "# Filter the DataFrame based on date comparison\n",
    "df = df[df['Planned Route End'].dt.date == df['Actual Route End'].dt.date]\n",
    "\n",
    "# Calculate 'Depot Return Variance' and 'Depot Return Variance (minutes)'\n",
    "df['Depot Return Variance'] = df['Actual Route End'] - df['Planned Route End']\n",
    "df['Depot Return Variance (minutes)'] = df['Depot Return Variance'].dt.total_seconds() / 60\n",
    "\n",
    "# Define the categorization function\n",
    "def categorize_departure_variance(minutes):\n",
    "    if minutes <= -120:\n",
    "        return 'Returned 2hrs+ Earlier'\n",
    "    elif minutes > -120 and minutes <= -60:\n",
    "        return 'Returned 1-2 hrs early'\n",
    "    elif minutes > -60 and minutes <= -30:\n",
    "        return 'Returned 30min-1hr early'\n",
    "    elif minutes > -30 and minutes <= 30:\n",
    "        return 'On Time'\n",
    "    elif minutes > 30 and minutes <= 60:\n",
    "        return 'Returned 30min-1hr late'\n",
    "    elif minutes > 60 and minutes < 120:\n",
    "        return 'Returned 1hr-2hrs late'\n",
    "    else:\n",
    "        return 'Returned 2hrs+ late'\n",
    "\n",
    "# Apply the custom function to create a new column\n",
    "df['Depot Return Variance Category'] = df['Depot Return Variance (minutes)'].apply(categorize_departure_variance)\n",
    "\n",
    "# Display the DataFrame with the new category column\n",
    "print(df[['Depot Return Variance (minutes)', 'Depot Return Variance Category']])\n"
   ]
  },
  {
   "cell_type": "code",
   "execution_count": null,
   "id": "d4ed93bc",
   "metadata": {},
   "outputs": [],
   "source": [
    "# Convert 'Actual Route End' and 'Actual Route Start' columns to datetime format\n",
    "df['Actual Route End'] = pd.to_datetime(df['Actual Route End'])\n",
    "df['Actual Route Start'] = pd.to_datetime(df['Actual Route Start'])\n",
    "\n",
    "# Convert 'Actual TAT' and 'Planned MST' columns to datetime\n",
    "df['Actual TAT'] = pd.to_datetime(df['Actual TAT'], errors='coerce')\n",
    "df['Planned MST'] = pd.to_datetime(df['Planned MST'], errors='coerce')\n",
    "\n",
    "# Filter the DataFrame to include only rows where 'Actual Route End' and 'Actual Route Start' have the same date\n",
    "df = df[df['Actual Route End'].dt.date == df['Actual Route Start'].dt.date]\n",
    "\n",
    "# Calculate 'TAT Variance' and 'TAT Variance (Minutes)'\n",
    "df['TAT Variance'] = df['Actual TAT'] - df['Planned MST']\n",
    "df['TAT Variance (Minutes)'] = df['TAT Variance'].dt.total_seconds() / 60\n",
    "\n",
    "# Filter the DataFrame to keep only rows with TAT Variance greater than or equal to 20 minutes\n",
    "df = df[df['TAT Variance (Minutes)'] >= 20]\n",
    "\n",
    "# Reset the index of the DataFrame\n",
    "df.reset_index(drop=True, inplace=True)\n",
    "\n",
    "def categorize_TA_variance(minutes):\n",
    "    if minutes > 0 and minutes <= 30:\n",
    "        return '0 <TAT <=30'\n",
    "    elif minutes > 30 and minutes <= 60:\n",
    "        return '30 <TAT <=60'\n",
    "    elif minutes > 60 and minutes <= 120:\n",
    "        return '60 <TAT <=120'\n",
    "    elif minutes > 120 and minutes <= 180:\n",
    "        return '120 <TAT <=180'\n",
    "    elif minutes > 180 and minutes <= 240:\n",
    "        return '180 <TAT <=240'\n",
    "    else:\n",
    "        return 'TAT 4hrs +'\n",
    "\n",
    "# Apply the custom function to create a new column\n",
    "df['TAT Variance Category'] = df['TAT Variance (Minutes)'].apply(categorize_departure_variance)\n",
    "\n",
    "# Calculate the total count for each driver\n",
    "driver_counts = df.groupby('Driver').size().reset_index(name='Total')\n",
    "\n",
    "# Pivot the DataFrame to get dispatch indicator counts\n",
    "pivot_df = df.pivot_table(index='Driver', columns='Depot Return Variance Category', aggfunc='size', fill_value=0)\n",
    "\n",
    "# Calculate percentages for each dispatch indicator\n",
    "percentage_df = pivot_df.div(driver_counts['Total'], axis=0) * 100\n",
    "\n",
    "# Reset the index for the percentage DataFrame\n",
    "percentage_df.reset_index(inplace=True)\n",
    "\n",
    "# Rename columns for clarity\n",
    "percentage_df.columns.name = None\n",
    "\n",
    "# Display the resulting DataFrame\n",
    "print(percentage_df)\n",
    "\n",
    "category_counts = df.groupby(['Driver', 'TAT Variance Category']).size().reset_index(name='Count')\n",
    "print(category_counts)\n",
    "# Display the DataFrame with the new category column\n",
    "print(df[['TAT Variance (Minutes)', 'TAT Variance Category']])\n",
    "\n",
    "\n",
    "\n",
    "\n"
   ]
  },
  {
   "cell_type": "code",
   "execution_count": null,
   "id": "9f0d01dd",
   "metadata": {},
   "outputs": [],
   "source": [
    "variance_stats = df['TAT Variance (Minutes)'].describe()\n",
    "print(variance_stats)"
   ]
  },
  {
   "cell_type": "code",
   "execution_count": null,
   "id": "d691c5ad",
   "metadata": {},
   "outputs": [],
   "source": [
    "df = df[['TAT Variance (Minutes)']]\n",
    "\n",
    "# Create a histogram with specified number of bins (you can adjust this)\n",
    "plt.hist(df, bins=20, edgecolor='k')\n",
    "\n",
    "# Add labels and a title\n",
    "plt.xlabel(['TAT Variance (Minutes)'])\n",
    "plt.ylabel('Frequency')\n",
    "plt.title('Histogram of TAT Variance')\n",
    "\n",
    "# Show the histogram\n",
    "plt.show()"
   ]
  },
  {
   "cell_type": "code",
   "execution_count": null,
   "id": "bcadc9e9",
   "metadata": {},
   "outputs": [],
   "source": []
  },
  {
   "cell_type": "code",
   "execution_count": null,
   "id": "62e4f2d5",
   "metadata": {},
   "outputs": [],
   "source": []
  }
 ],
 "metadata": {
  "kernelspec": {
   "display_name": "Python 3 (ipykernel)",
   "language": "python",
   "name": "python3"
  },
  "language_info": {
   "codemirror_mode": {
    "name": "ipython",
    "version": 3
   },
   "file_extension": ".py",
   "mimetype": "text/x-python",
   "name": "python",
   "nbconvert_exporter": "python",
   "pygments_lexer": "ipython3",
   "version": "3.9.13"
  }
 },
 "nbformat": 4,
 "nbformat_minor": 5
}
