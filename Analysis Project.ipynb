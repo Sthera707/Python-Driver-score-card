{
 "cells": [
  {
   "cell_type": "markdown",
   "id": "1f53cceb",
   "metadata": {},
   "source": [
    "The objective of the project is to build a drivers score card that can aid a business to measure the drivers performance based on depot departure, Customer TAT and Depot return. The aim is to create a weighted average per driver and give them intensive based on the grading system. ghhhhh"
   ]
  },
  {
   "cell_type": "markdown",
   "id": "5ce04eb9",
   "metadata": {},
   "source": [
    "Importing all the libraries and Data that will be neccessary for the analysis"
   ]
  },
  {
   "cell_type": "code",
   "execution_count": null,
   "id": "236e32ae",
   "metadata": {},
   "outputs": [],
   "source": []
  },
  {
   "cell_type": "code",
   "execution_count": 2,
   "id": "8b5ae1f8",
   "metadata": {},
   "outputs": [],
   "source": [
    "import numpy as np\n",
    "import pandas as pd\n",
    "import matplotlib.pyplot as plt\n",
    "import seaborn as sns\n",
    "import sklearn\n",
    "\n",
    "file_path = r'C:\\Users\\SthembisoM\\Desktop\\Karl\\Driver score card\\Trackmatic details.csv'\n",
    "\n",
    "df = pd.read_csv(file_path)"
   ]
  },
  {
   "cell_type": "code",
   "execution_count": null,
   "id": "af58c536",
   "metadata": {},
   "outputs": [],
   "source": [
    "print(df.columns)"
   ]
  },
  {
   "cell_type": "markdown",
   "id": "1de94b73",
   "metadata": {},
   "source": [
    "Data Exploration: Check missing values and duplicates on the dataframe"
   ]
  },
  {
   "cell_type": "code",
   "execution_count": 3,
   "id": "40bf1995",
   "metadata": {},
   "outputs": [
    {
     "name": "stdout",
     "output_type": "stream",
     "text": [
      "No duplicate rows found in the dataset.\n",
      "Missing values in each column:\n",
      "Route Channel                         1\n",
      "Customer Channel                      3\n",
      "Depot Code                            3\n",
      "Depot                                 3\n",
      "Route No.                             3\n",
      "Route Status                          3\n",
      "Shipment                          33446\n",
      "Cases                                 2\n",
      "Weight                                2\n",
      "Mass                                  2\n",
      "Driver                                3\n",
      "Fleet Number                        298\n",
      "Registration                          3\n",
      "Customer Code                         3\n",
      "Customer                              4\n",
      "Major Group                           4\n",
      "Major Chain                           4\n",
      "Requested Delivery Date               3\n",
      "Planned Route Start                   3\n",
      "Planned Route End                     3\n",
      "Actual Route Start                    3\n",
      "Actual Route End                      3\n",
      "Actual Route Duration                 3\n",
      "Planned Arrival                       3\n",
      "Arrival Strike Flag                   3\n",
      "Arrival Status                        3\n",
      "Actual Arrival                        3\n",
      "Planned Departure                     3\n",
      "Departure Strike Flag                 3\n",
      "Departure Status                      3\n",
      "Actual Departure                      3\n",
      "Planned MST                           3\n",
      "Actual TAT                            3\n",
      "Actual TAT/Case (sec)                 2\n",
      "TAT Variance                          3\n",
      "Adj Actual Wait TAT                   3\n",
      "Adj Actual Off-Load TAT               3\n",
      "Adj Actual Doc TAT                    3\n",
      "Off-Loading TAT per Case (sec)        3\n",
      "CSD Planned after 6pm                 3\n",
      "CSD Arrived after 6pm                 3\n",
      "PSD Planned after 4pm                 3\n",
      "PSD Arrived after 4pm                 3\n",
      "Mall Split                            3\n",
      "Outlier                               3\n",
      "Exception                             3\n",
      "dtype: int64\n"
     ]
    }
   ],
   "source": [
    "duplicate_rows = df[df.duplicated()]\n",
    "if not duplicate_rows.empty:\n",
    "    print(\"Duplicate rows found:\")\n",
    "    print(duplicate_rows)\n",
    "else:\n",
    "    print(\"No duplicate rows found in the dataset.\")\n",
    "\n",
    "missing_values = df.isna().sum()\n",
    "print(\"Missing values in each column:\")\n",
    "print(missing_values)"
   ]
  },
  {
   "cell_type": "markdown",
   "id": "4bb4fd49",
   "metadata": {},
   "source": [
    "Drop missing data because the trackmatic detail dataset doesnt have any shipment numbers."
   ]
  },
  {
   "cell_type": "code",
   "execution_count": 4,
   "id": "676d9f0d",
   "metadata": {},
   "outputs": [
    {
     "name": "stdout",
     "output_type": "stream",
     "text": [
      "Missing values in each column:\n",
      "Route Channel                       0\n",
      "Customer Channel                    0\n",
      "Depot Code                          0\n",
      "Depot                               0\n",
      "Route No.                           0\n",
      "Route Status                        0\n",
      "Cases                               0\n",
      "Weight                              0\n",
      "Mass                                0\n",
      "Driver                              0\n",
      "Fleet Number                      295\n",
      "Registration                        0\n",
      "Customer Code                       0\n",
      "Customer                            0\n",
      "Major Group                         0\n",
      "Major Chain                         0\n",
      "Requested Delivery Date             0\n",
      "Planned Route Start                 0\n",
      "Planned Route End                   0\n",
      "Actual Route Start                  0\n",
      "Actual Route End                    0\n",
      "Actual Route Duration               0\n",
      "Planned Arrival                     0\n",
      "Arrival Strike Flag                 0\n",
      "Arrival Status                      0\n",
      "Actual Arrival                      0\n",
      "Planned Departure                   0\n",
      "Departure Strike Flag               0\n",
      "Departure Status                    0\n",
      "Actual Departure                    0\n",
      "Planned MST                         0\n",
      "Actual TAT                          0\n",
      "Actual TAT/Case (sec)               0\n",
      "TAT Variance                        0\n",
      "Adj Actual Wait TAT                 0\n",
      "Adj Actual Off-Load TAT             0\n",
      "Adj Actual Doc TAT                  0\n",
      "Off-Loading TAT per Case (sec)      0\n",
      "CSD Planned after 6pm               0\n",
      "CSD Arrived after 6pm               0\n",
      "PSD Planned after 4pm               0\n",
      "PSD Arrived after 4pm               0\n",
      "Mall Split                          0\n",
      "Outlier                             0\n",
      "Exception                           0\n",
      "dtype: int64\n"
     ]
    }
   ],
   "source": [
    "df = df.drop(columns=['Shipment'])\n",
    "df = df.dropna(subset=['Driver', 'Customer'])\n",
    "missing_values = df.isna().sum()\n",
    "print(\"Missing values in each column:\")\n",
    "print(missing_values)"
   ]
  },
  {
   "cell_type": "markdown",
   "id": "a92ed3a1",
   "metadata": {},
   "source": [
    "Correct datatypes"
   ]
  },
  {
   "cell_type": "code",
   "execution_count": 5,
   "id": "2d171de1",
   "metadata": {},
   "outputs": [
    {
     "name": "stdout",
     "output_type": "stream",
     "text": [
      "Route Channel                             object\n",
      "Customer Channel                          object\n",
      "Depot Code                               float64\n",
      "Depot                                     object\n",
      "Route No.                                 object\n",
      "Route Status                              object\n",
      "Cases                                    float64\n",
      "Weight                                   float64\n",
      "Mass                                     float64\n",
      "Driver                                    object\n",
      "Fleet Number                              object\n",
      "Registration                              object\n",
      "Customer Code                            float64\n",
      "Customer                                  object\n",
      "Major Group                               object\n",
      "Major Chain                               object\n",
      "Requested Delivery Date           datetime64[ns]\n",
      "Planned Route Start               datetime64[ns]\n",
      "Planned Route End                 datetime64[ns]\n",
      "Actual Route Start                datetime64[ns]\n",
      "Actual Route End                  datetime64[ns]\n",
      "Actual Route Duration             datetime64[ns]\n",
      "Planned Arrival                   datetime64[ns]\n",
      "Arrival Strike Flag                      float64\n",
      "Arrival Status                            object\n",
      "Actual Arrival                    datetime64[ns]\n",
      "Planned Departure                 datetime64[ns]\n",
      "Departure Strike Flag                    float64\n",
      "Departure Status                          object\n",
      "Actual Departure                  datetime64[ns]\n",
      "Planned MST                       datetime64[ns]\n",
      "Actual TAT                        datetime64[ns]\n",
      "Actual TAT/Case (sec)                    float64\n",
      "TAT Variance                              object\n",
      "Adj Actual Wait TAT                       object\n",
      "Adj Actual Off-Load TAT                   object\n",
      "Adj Actual Doc TAT                        object\n",
      "Off-Loading TAT per Case (sec)           float64\n",
      "CSD Planned after 6pm                    float64\n",
      "CSD Arrived after 6pm                    float64\n",
      "PSD Planned after 4pm                    float64\n",
      "PSD Arrived after 4pm                    float64\n",
      "Mall Split                               float64\n",
      "Outlier                                  float64\n",
      "Exception                                float64\n",
      "dtype: object\n"
     ]
    }
   ],
   "source": [
    "\n",
    "# List of columns with timestamps to convert\n",
    "timestamp_columns = ['Requested Delivery Date', 'Planned Route Start', 'Planned Route End', 'Actual Route Start', 'Actual Route End', 'Actual Arrival', 'Planned Departure', 'Actual Departure', 'Planned MST', 'Actual TAT', 'Planned Arrival', 'Actual Route Duration']\n",
    "\n",
    "# Loop through each timestamp column and convert its data type\n",
    "for column in timestamp_columns:\n",
    "    df[column] = pd.to_datetime(df[column], errors='coerce')\n",
    "\n",
    "# Optional: Check the data types of the columns after conversion\n",
    "print(df.dtypes)"
   ]
  },
  {
   "cell_type": "code",
   "execution_count": null,
   "id": "1ad24b98",
   "metadata": {},
   "outputs": [],
   "source": []
  },
  {
   "cell_type": "code",
   "execution_count": 6,
   "id": "098ed0a7",
   "metadata": {},
   "outputs": [
    {
     "name": "stdout",
     "output_type": "stream",
     "text": [
      "Closed\n",
      "Active\n",
      "Requested\n"
     ]
    }
   ],
   "source": [
    "\n",
    "unique_route_statuses = df['Route Status'].unique()\n",
    "\n",
    "# Print the unique strings\n",
    "for status in unique_route_statuses:\n",
    "    print(status)"
   ]
  },
  {
   "cell_type": "code",
   "execution_count": 7,
   "id": "6544ec43",
   "metadata": {},
   "outputs": [
    {
     "name": "stdout",
     "output_type": "stream",
     "text": [
      "Closed\n"
     ]
    }
   ],
   "source": [
    "df = df[~df['Route Status'].isin(['Active', 'Requested'])]\n",
    "unique_route_statuses = df['Route Status'].unique()\n",
    "\n",
    "# Print the unique strings\n",
    "for status in unique_route_statuses:\n",
    "    print(status)"
   ]
  },
  {
   "cell_type": "markdown",
   "id": "5b700e45",
   "metadata": {},
   "source": [
    "Drop All Pull Forward or rolled over routes"
   ]
  },
  {
   "cell_type": "code",
   "execution_count": null,
   "id": "c04bfd09",
   "metadata": {},
   "outputs": [],
   "source": [
    "condition = df['Actual Route Start'].dt.date != df['Actual Route End'].dt.date\n",
    "\n",
    "# Use the condition to exclude rows where Planned and Actual Start Dates are different\n",
    "df = df[~condition]"
   ]
  },
  {
   "cell_type": "markdown",
   "id": "b600b04d",
   "metadata": {},
   "source": [
    "Drop All sleepouts"
   ]
  },
  {
   "cell_type": "code",
   "execution_count": null,
   "id": "01a0867c",
   "metadata": {},
   "outputs": [],
   "source": [
    "condition = df['Planned Route Start'].dt.date != df['Planned Route End'].dt.date\n",
    "\n",
    "df = df[~condition]\n",
    "\n",
    "condition = (df['Planned Route Start'].dt.date == df['Planned Route End'].dt.date)\n",
    "\n",
    "# Use the condition to exclude rows where Planned Start Date and Planned End Date are different\n",
    "df = df[condition]"
   ]
  },
  {
   "cell_type": "code",
   "execution_count": null,
   "id": "95816f7e",
   "metadata": {},
   "outputs": [],
   "source": []
  },
  {
   "cell_type": "code",
   "execution_count": 9,
   "id": "112c49b2",
   "metadata": {},
   "outputs": [
    {
     "name": "stdout",
     "output_type": "stream",
     "text": [
      "0        -75.716667\n",
      "1        -75.716667\n",
      "2        -75.716667\n",
      "3        -66.500000\n",
      "4        -66.500000\n",
      "            ...    \n",
      "33438    146.000000\n",
      "33439    -29.883333\n",
      "33440    -29.883333\n",
      "33441    -29.883333\n",
      "33442    -29.883333\n",
      "Name: Departure Time Variance (minutes), Length: 33051, dtype: float64\n"
     ]
    }
   ],
   "source": [
    "df = df[df['Planned Route Start'].dt.date == df['Actual Route Start'].dt.date]\n",
    "df['Departure Time Variance'] = df['Actual Route Start'] - df['Planned Route Start']\n",
    "\n",
    "df['Departure Time Variance (minutes)'] = df['Departure Time Variance'].dt.total_seconds() / 60\n",
    "print(df['Departure Time Variance (minutes)'])"
   ]
  },
  {
   "cell_type": "code",
   "execution_count": null,
   "id": "a63abe21",
   "metadata": {},
   "outputs": [],
   "source": []
  },
  {
   "cell_type": "code",
   "execution_count": 10,
   "id": "16de9ca1",
   "metadata": {
    "scrolled": true
   },
   "outputs": [],
   "source": [
    "columns_to_drop = [\n",
    "    'Adj Actual Wait TAT',\n",
    "    'Adj Actual Off-Load TAT',\n",
    "    'Adj Actual Doc TAT',\n",
    "    'Off-Loading TAT per Case (sec)',\n",
    "    'CSD Planned after 6pm',\n",
    "    'CSD Arrived after 6pm',\n",
    "    'PSD Planned after 4pm',\n",
    "    'PSD Arrived after 4pm',\n",
    "    'Mall Split',\n",
    "    'Outlier',\n",
    "    'Exception']\n",
    "df = df.drop(columns=columns_to_drop)"
   ]
  },
  {
   "cell_type": "code",
   "execution_count": 11,
   "id": "c85ac9c0",
   "metadata": {},
   "outputs": [],
   "source": [
    "\n",
    "condition = (df['Actual Route Duration'].dt.hour * 60 + df['Actual Route Duration'].dt.minute) >= 60\n",
    "\n",
    "# Use the condition to exclude rows with a Trip Duration less than 1 hour in the original DataFrame\n",
    "df = df[condition]"
   ]
  },
  {
   "cell_type": "code",
   "execution_count": 12,
   "id": "564a0382",
   "metadata": {},
   "outputs": [],
   "source": [
    "condition = ~((df['Planned Route Start'].dt.hour >= 7) | (df['Planned Route Start'].dt.hour < 1))\n",
    "\n",
    "# Use the condition to exclude rows with Actual Start Time between 07:00 and 01:00\n",
    "df = df[condition]"
   ]
  },
  {
   "cell_type": "code",
   "execution_count": 13,
   "id": "a2d8f56f",
   "metadata": {},
   "outputs": [],
   "source": [
    "condition = ~((df['Actual Route Start'].dt.hour >= 10) | (df['Actual Route Start'].dt.hour < 1))\n",
    "\n",
    "#Use the condition to exclude rows with Actual Start Time between 13:00 and 01:00\n",
    "df = df[condition]"
   ]
  },
  {
   "cell_type": "code",
   "execution_count": null,
   "id": "0eadf0f3",
   "metadata": {},
   "outputs": [],
   "source": []
  },
  {
   "cell_type": "code",
   "execution_count": 14,
   "id": "c8455c8d",
   "metadata": {},
   "outputs": [
    {
     "name": "stdout",
     "output_type": "stream",
     "text": [
      "Row with Maximum Variance:\n",
      "Route Channel                                             PSD\n",
      "Customer Channel                                          PNP\n",
      "Depot Code                                               41.0\n",
      "Depot                                             Thekwini DC\n",
      "Route No.                                           TR5703188\n",
      "Route Status                                           Closed\n",
      "Cases                                                   710.0\n",
      "Weight                                                7788.36\n",
      "Mass                                                 17883.65\n",
      "Driver                                         DICKSON MOHOLO\n",
      "Fleet Number                                            17097\n",
      "Registration                                         ND636870\n",
      "Customer Code                                        416960.0\n",
      "Customer                             PNP FAMILY ESCOURT KF 41\n",
      "Major Group                                    PICKNPAY GROUP\n",
      "Major Chain                                   PNP CORP/FRANCH\n",
      "Requested Delivery Date                   1900-01-02 00:00:00\n",
      "Planned Route Start                       2023-03-31 01:22:19\n",
      "Planned Route End                         2023-03-31 09:26:46\n",
      "Actual Route Start                        2023-03-31 09:20:40\n",
      "Actual Route End                          2023-03-31 20:21:03\n",
      "Actual Route Duration                     2023-09-11 11:00:23\n",
      "Planned Arrival                           2023-03-31 04:30:00\n",
      "Arrival Strike Flag                                       0.0\n",
      "Arrival Status                                           Late\n",
      "Actual Arrival                            2023-03-31 17:36:00\n",
      "Planned Departure                         2023-03-31 06:21:57\n",
      "Departure Strike Flag                                     0.0\n",
      "Departure Status                                         Late\n",
      "Actual Departure                          2023-03-31 17:43:00\n",
      "Planned MST                               2023-09-11 01:51:57\n",
      "Actual TAT                                2023-09-11 00:07:00\n",
      "Actual TAT/Case (sec)                                0.591549\n",
      "TAT Variance                                         -2:15:03\n",
      "Departure Time Variance                       0 days 07:58:21\n",
      "Departure Time Variance (minutes)                      478.35\n",
      "Name: 20645, dtype: object\n",
      "\n",
      "Row with Minimum Variance:\n",
      "Route Channel                                            PSD\n",
      "Customer Channel                                         PNP\n",
      "Depot Code                                              42.0\n",
      "Depot                                           Newcastle DC\n",
      "Route No.                                          TR5734549\n",
      "Route Status                                          Closed\n",
      "Cases                                                  110.0\n",
      "Weight                                               1094.31\n",
      "Mass                                                 2626.73\n",
      "Driver                                          DANIEL Khulu\n",
      "Fleet Number                                           15038\n",
      "Registration                                        ND813094\n",
      "Customer Code                                       410790.0\n",
      "Customer                             PNP SMKT KC22 LADYSMITH\n",
      "Major Group                                   PICKNPAY GROUP\n",
      "Major Chain                                  PNP CORP/FRANCH\n",
      "Requested Delivery Date                  1900-01-02 00:00:00\n",
      "Planned Route Start                      2023-05-29 06:35:00\n",
      "Planned Route End                        2023-05-29 20:17:14\n",
      "Actual Route Start                       2023-05-29 02:19:22\n",
      "Actual Route End                         2023-05-29 17:08:32\n",
      "Actual Route Duration                    2023-09-11 14:49:10\n",
      "Planned Arrival                          2023-05-29 08:26:43\n",
      "Arrival Strike Flag                                      0.0\n",
      "Arrival Status                                          Late\n",
      "Actual Arrival                           2023-05-29 16:37:00\n",
      "Planned Departure                        2023-05-29 09:47:16\n",
      "Departure Strike Flag                                    0.0\n",
      "Departure Status                                        Late\n",
      "Actual Departure                         2023-05-29 16:40:00\n",
      "Planned MST                              2023-09-11 01:20:33\n",
      "Actual TAT                               2023-09-11 00:03:00\n",
      "Actual TAT/Case (sec)                               1.636364\n",
      "TAT Variance                                        -2:42:27\n",
      "Departure Time Variance                    -1 days +19:44:22\n",
      "Departure Time Variance (minutes)                -255.633333\n",
      "Name: 12873, dtype: object\n",
      "Maximum Variance: 478.35 minutes\n",
      "Minimum Variance: -255.63333333333335 minutes\n"
     ]
    }
   ],
   "source": [
    "# Find the index of the row with the maximum 'Departure Time Variance (minutes)'\n",
    "max_idx = df['Departure Time Variance (minutes)'].idxmax()\n",
    "\n",
    "# Find the index of the row with the minimum 'Departure Time Variance (minutes)'\n",
    "min_idx = df['Departure Time Variance (minutes)'].idxmin()\n",
    "\n",
    "# Access the rows with the maximum and minimum values\n",
    "max_row = df.loc[max_idx]\n",
    "min_row = df.loc[min_idx]\n",
    "\n",
    "# Print the rows\n",
    "print(\"Row with Maximum Variance:\")\n",
    "print(max_row)\n",
    "\n",
    "print(\"\\nRow with Minimum Variance:\")\n",
    "print(min_row)\n",
    "\n",
    "\n",
    "max_variance = df['Departure Time Variance (minutes)'].max()\n",
    "min_variance = df['Departure Time Variance (minutes)'].min()\n",
    "\n",
    "print(f\"Maximum Variance: {max_variance} minutes\")\n",
    "print(f\"Minimum Variance: {min_variance} minutes\")"
   ]
  },
  {
   "cell_type": "code",
   "execution_count": 15,
   "id": "8d5d0282",
   "metadata": {},
   "outputs": [
    {
     "name": "stdout",
     "output_type": "stream",
     "text": [
      "count    24254.000000\n",
      "mean         8.642586\n",
      "std         48.133192\n",
      "min       -255.633333\n",
      "25%        -15.300000\n",
      "50%          2.983333\n",
      "75%         23.041667\n",
      "max        478.350000\n",
      "Name: Departure Time Variance (minutes), dtype: float64\n"
     ]
    }
   ],
   "source": [
    "variance_stats = df['Departure Time Variance (minutes)'].describe()\n",
    "print(variance_stats)"
   ]
  },
  {
   "cell_type": "code",
   "execution_count": 16,
   "id": "3871067e",
   "metadata": {},
   "outputs": [
    {
     "data": {
      "image/png": "[encoded data removed]",
      "text/plain": [
       "<Figure size 640x480 with 1 Axes>"
      ]
     },
     "metadata": {},
     "output_type": "display_data"
    }
   ],
   "source": [
    "dt = df['Departure Time Variance (minutes)']\n",
    "\n",
    "# Create a histogram with specified number of bins (you can adjust this)\n",
    "plt.hist(dt, bins=20, edgecolor='k')\n",
    "\n",
    "# Add labels and a title\n",
    "plt.xlabel('Departure Time Variance (minutes)')\n",
    "plt.ylabel('Frequency')\n",
    "plt.title('Histogram of Departure Time Variance')\n",
    "\n",
    "# Show the histogram\n",
    "plt.show()"
   ]
  },
  {
   "cell_type": "markdown",
   "id": "00b6a7ff",
   "metadata": {},
   "source": [
    "Based on these statistics:\n",
    "\n",
    "The mean departure time variance being positive (8.38 minutes) suggests that, on average, departures tend to be slightly later than planned.\n",
    "\n",
    "The standard deviation being relatively large (47.49 minutes) indicates a wide spread of departure time variances, with some instances of significant delays and early departures.\n",
    "\n",
    "The presence of negative values (e.g., minimum of -255.63 minutes) indicates instances where departures occurred earlier than planned.\n",
    "\n",
    "The maximum departure time variance of 478.35 minutes suggests that there are cases of substantial delays in departures.\n",
    "\n",
    "In conclucsion I am satisfied with the data quality."
   ]
  },
  {
   "cell_type": "markdown",
   "id": "bccdc780",
   "metadata": {},
   "source": [
    "Creating Category for dispatching pattern"
   ]
  },
  {
   "cell_type": "code",
   "execution_count": 17,
   "id": "22d00e27",
   "metadata": {},
   "outputs": [
    {
     "name": "stdout",
     "output_type": "stream",
     "text": [
      "       Departure Time Variance (minutes)  Dispatch Variance Category\n",
      "9                             -32.483333  Dispatched 30min-1hr early\n",
      "10                            -32.483333  Dispatched 30min-1hr early\n",
      "11                            -32.483333  Dispatched 30min-1hr early\n",
      "12                            -22.733333                     On Time\n",
      "13                            -22.733333                     On Time\n",
      "...                                  ...                         ...\n",
      "33434                         -38.750000  Dispatched 30min-1hr early\n",
      "33435                         -38.750000  Dispatched 30min-1hr early\n",
      "33436                         146.000000       Dispatched 2hrs+ late\n",
      "33437                         146.000000       Dispatched 2hrs+ late\n",
      "33438                         146.000000       Dispatched 2hrs+ late\n",
      "\n",
      "[24254 rows x 2 columns]\n"
     ]
    }
   ],
   "source": [
    "# Convert 'Planned Route Start' and 'Actual Route Start' columns to datetime format\n",
    "df['Planned Route Start'] = pd.to_datetime(df['Planned Route Start'])\n",
    "df['Actual Route Start'] = pd.to_datetime(df['Actual Route Start'])\n",
    "\n",
    "# Filter the DataFrame based on date comparison\n",
    "df = df[df['Planned Route Start'].dt.date == df['Actual Route Start'].dt.date]\n",
    "\n",
    "# Continue with the calculations and categorizations\n",
    "\n",
    "# Filter the DataFrame based on date comparison\n",
    "#df = df[df['Planned Route Start'].dt.date == df['Actual Route Start'].dt.date]\n",
    "\n",
    "# Calculate 'Departure Time Variance' and 'Departure Time Variance (minutes)'\n",
    "df['Departure Time Variance'] = df['Actual Route Start'] - df['Planned Route Start']\n",
    "df['Departure Time Variance (minutes)'] = df['Departure Time Variance'].dt.total_seconds() / 60\n",
    "\n",
    "# Define the categorization function\n",
    "def categorize_departure_variance(minutes):\n",
    "    if minutes <= -120:\n",
    "        return 'Dispatched 2hrs+ Earlier'\n",
    "    elif minutes > -120 and minutes <= -60:\n",
    "        return 'Dispatched 1-2 hrs early'\n",
    "    elif minutes > -60 and minutes <= -30:\n",
    "        return 'Dispatched 30min-1hr early'\n",
    "    elif minutes > -30 and minutes <= 30:\n",
    "        return 'On Time'\n",
    "    elif minutes > 30 and minutes <= 60:\n",
    "        return 'Dispatched 30min-1hr late'\n",
    "    elif minutes > 60 and minutes < 120:\n",
    "        return 'Dispatched 1hr-2hrs late'\n",
    "    else:\n",
    "        return 'Dispatched 2hrs+ late'\n",
    "\n",
    "# Apply the custom function to create a new column\n",
    "df['Dispatch Variance Category'] = df['Departure Time Variance (minutes)'].apply(categorize_departure_variance)\n",
    "\n",
    "# Display the DataFrame with the new category column\n",
    "print(df[['Departure Time Variance (minutes)', 'Dispatch Variance Category']])\n"
   ]
  },
  {
   "cell_type": "code",
   "execution_count": null,
   "id": "6ab419b6",
   "metadata": {},
   "outputs": [],
   "source": [
    "print(df.columns)"
   ]
  },
  {
   "cell_type": "code",
   "execution_count": 18,
   "id": "2fe390d9",
   "metadata": {},
   "outputs": [
    {
     "name": "stdout",
     "output_type": "stream",
     "text": [
      "       Depot Return Variance (minutes) Depot Return Variance Category\n",
      "9                          -126.250000         Returned 2hrs+ Earlier\n",
      "10                         -126.250000         Returned 2hrs+ Earlier\n",
      "11                         -126.250000         Returned 2hrs+ Earlier\n",
      "12                          -44.250000       Returned 30min-1hr early\n",
      "13                          -44.250000       Returned 30min-1hr early\n",
      "...                                ...                            ...\n",
      "33434                       145.083333            Returned 2hrs+ late\n",
      "33435                       145.083333            Returned 2hrs+ late\n",
      "33436                       271.616667            Returned 2hrs+ late\n",
      "33437                       271.616667            Returned 2hrs+ late\n",
      "33438                       271.616667            Returned 2hrs+ late\n",
      "\n",
      "[23734 rows x 2 columns]\n"
     ]
    }
   ],
   "source": [
    "# Convert 'Planned Route End' and 'Actual Route End' columns to datetime format\n",
    "df['Planned Route End'] = pd.to_datetime(df['Planned Route End'])\n",
    "df['Actual Route End'] = pd.to_datetime(df['Actual Route End'])\n",
    "\n",
    "# Filter the DataFrame based on date comparison\n",
    "df = df[df['Planned Route End'].dt.date == df['Actual Route End'].dt.date]\n",
    "\n",
    "# Calculate 'Depot Return Variance' and 'Depot Return Variance (minutes)'\n",
    "df['Depot Return Variance'] = df['Actual Route End'] - df['Planned Route End']\n",
    "df['Depot Return Variance (minutes)'] = df['Depot Return Variance'].dt.total_seconds() / 60\n",
    "\n",
    "# Define the categorization function\n",
    "def categorize_departure_variance(minutes):\n",
    "    if minutes <= -120:\n",
    "        return 'Returned 2hrs+ Earlier'\n",
    "    elif minutes > -120 and minutes <= -60:\n",
    "        return 'Returned 1-2 hrs early'\n",
    "    elif minutes > -60 and minutes <= -30:\n",
    "        return 'Returned 30min-1hr early'\n",
    "    elif minutes > -30 and minutes <= 30:\n",
    "        return 'On Time'\n",
    "    elif minutes > 30 and minutes <= 60:\n",
    "        return 'Returned 30min-1hr late'\n",
    "    elif minutes > 60 and minutes < 120:\n",
    "        return 'Returned 1hr-2hrs late'\n",
    "    else:\n",
    "        return 'Returned 2hrs+ late'\n",
    "\n",
    "# Apply the custom function to create a new column\n",
    "df['Depot Return Variance Category'] = df['Depot Return Variance (minutes)'].apply(categorize_departure_variance)\n",
    "\n",
    "# Display the DataFrame with the new category column\n",
    "print(df[['Depot Return Variance (minutes)', 'Depot Return Variance Category']])\n"
   ]
  },
  {
   "cell_type": "code",
   "execution_count": 19,
   "id": "ca7d58d4",
   "metadata": {},
   "outputs": [
    {
     "name": "stdout",
     "output_type": "stream",
     "text": [
      "     TAT Variance Category  TAT Variance (Minutes)\n",
      "0            60 <TAT <=120                   91.75\n",
      "1              0 <TAT <=30                   24.70\n",
      "2              0 <TAT <=30                   26.85\n",
      "3           120 <TAT <=180                  174.50\n",
      "4           180 <TAT <=240                  204.00\n",
      "...                    ...                     ...\n",
      "7644        180 <TAT <=240                  188.00\n",
      "7645        120 <TAT <=180                  164.00\n",
      "7646         60 <TAT <=120                   87.40\n",
      "7647         60 <TAT <=120                   67.50\n",
      "7648            TAT 4hrs +                  338.50\n",
      "\n",
      "[7649 rows x 2 columns]\n"
     ]
    }
   ],
   "source": [
    "# Convert 'Actual Route End' and 'Actual Route Start' columns to datetime format\n",
    "df['Actual Route End'] = pd.to_datetime(df['Actual Route End'])\n",
    "df['Actual Route Start'] = pd.to_datetime(df['Actual Route Start'])\n",
    "\n",
    "# Convert 'Actual TAT' and 'Planned MST' columns to datetime\n",
    "df['Actual TAT'] = pd.to_datetime(df['Actual TAT'], errors='coerce')\n",
    "df['Planned MST'] = pd.to_datetime(df['Planned MST'], errors='coerce')\n",
    "\n",
    "# Filter the DataFrame to include only rows where 'Actual Route End' and 'Actual Route Start' have the same date\n",
    "df = df[df['Actual Route End'].dt.date == df['Actual Route Start'].dt.date]\n",
    "\n",
    "# Calculate 'TAT Variance' and 'TAT Variance (Minutes)'\n",
    "df['TAT Variance'] = df['Actual TAT'] - df['Planned MST']\n",
    "df['TAT Variance (Minutes)'] = df['TAT Variance'].dt.total_seconds() / 60\n",
    "\n",
    "# Filter the DataFrame to keep only rows with TAT Variance greater than or equal to 20 minutes\n",
    "df = df[df['TAT Variance (Minutes)'] >= 20]\n",
    "\n",
    "# Reset the index of the DataFrame\n",
    "df.reset_index(drop=True, inplace=True)\n",
    "\n",
    "def categorize_TA_variance(minutes):\n",
    "    if minutes > 0 and minutes <= 30:\n",
    "        return '0 <TAT <=30'\n",
    "    elif minutes > 30 and minutes <= 60:\n",
    "        return '30 <TAT <=60'\n",
    "    elif minutes > 60 and minutes <= 120:\n",
    "        return '60 <TAT <=120'\n",
    "    elif minutes > 120 and minutes <= 180:\n",
    "        return '120 <TAT <=180'\n",
    "    elif minutes > 180 and minutes <= 240:\n",
    "        return '180 <TAT <=240'\n",
    "    else:\n",
    "        return 'TAT 4hrs +'\n",
    "\n",
    "# Apply the custom function to create a new column\n",
    "df['TAT Variance Category'] = df['TAT Variance (Minutes)'].apply(categorize_TA_variance)\n",
    "\n",
    "print(df[['TAT Variance Category', 'TAT Variance (Minutes)']])\n",
    "\n",
    "\n",
    "\n",
    "\n"
   ]
  },
  {
   "cell_type": "code",
   "execution_count": null,
   "id": "c91423a1",
   "metadata": {},
   "outputs": [],
   "source": [
    "variance_stats = df['TAT Variance (Minutes)'].describe()\n",
    "print(variance_stats)"
   ]
  },
  {
   "cell_type": "code",
   "execution_count": null,
   "id": "bdd72289",
   "metadata": {},
   "outputs": [],
   "source": [
    "print(df.columns)"
   ]
  },
  {
   "cell_type": "code",
   "execution_count": 20,
   "id": "849f3d55",
   "metadata": {},
   "outputs": [
    {
     "data": {
      "image/png": "[encoded data removed]",
      "text/plain": [
       "<Figure size 640x480 with 1 Axes>"
      ]
     },
     "metadata": {},
     "output_type": "display_data"
    }
   ],
   "source": [
    "dt = df[['TAT Variance (Minutes)']]\n",
    "\n",
    "# Create a histogram with specified number of bins (you can adjust this)\n",
    "plt.hist(dt, bins=20, edgecolor='k')\n",
    "\n",
    "# Add labels and a title\n",
    "plt.xlabel(['TAT Variance (Minutes)'])\n",
    "plt.ylabel('Frequency')\n",
    "plt.title('Histogram of TAT Variance')\n",
    "\n",
    "# Show the histogram\n",
    "plt.show()"
   ]
  },
  {
   "cell_type": "code",
   "execution_count": null,
   "id": "f318aa45",
   "metadata": {},
   "outputs": [],
   "source": [
    "print(df.columns)"
   ]
  },
  {
   "cell_type": "code",
   "execution_count": null,
   "id": "a59096c4",
   "metadata": {},
   "outputs": [],
   "source": []
  },
  {
   "cell_type": "code",
   "execution_count": 21,
   "id": "36cb0143",
   "metadata": {},
   "outputs": [
    {
     "name": "stdout",
     "output_type": "stream",
     "text": [
      "                     Number_of_Routes  Driver_Score_Dispatch  \\\n",
      "Driver                                                         \n",
      "SINDILE TSHAYINYONI               206                   1819   \n",
      "DAVID NHLANH MZOBE                203                   1618   \n",
      "LUCKY KHANYILE                    188                   1494   \n",
      "THANDO MKHIZE                     181                   1559   \n",
      "Andile Siziba                     177                   1521   \n",
      "...                               ...                    ...   \n",
      "XOLANI NENE                         5                     50   \n",
      "MARK MOODLEY                        4                     26   \n",
      "GODFREY BUTHELEZI                   4                     23   \n",
      "DECEMBER MORAJANE                   3                     23   \n",
      "JABULANI Nkosi                      1                      1   \n",
      "\n",
      "                     Driver_Score_Percentage  \n",
      "Driver                                        \n",
      "SINDILE TSHAYINYONI                88.300971  \n",
      "DAVID NHLANH MZOBE                 79.704433  \n",
      "LUCKY KHANYILE                     79.468085  \n",
      "THANDO MKHIZE                      86.132597  \n",
      "Andile Siziba                      85.932203  \n",
      "...                                      ...  \n",
      "XOLANI NENE                       100.000000  \n",
      "MARK MOODLEY                       65.000000  \n",
      "GODFREY BUTHELEZI                  57.500000  \n",
      "DECEMBER MORAJANE                  76.666667  \n",
      "JABULANI Nkosi                     10.000000  \n",
      "\n",
      "[90 rows x 3 columns]\n"
     ]
    }
   ],
   "source": [
    "df['Driver_Score_Dispatch'] = df['Dispatch Variance Category'].apply(\n",
    "    lambda x: 3 if x == 'Dispatched 2hrs+ Earlier' else\n",
    "    (5 if x == 'Dispatched 1-2 hrs early' else\n",
    "    (10 if x == 'Dispatched 30min-1hr early' else\n",
    "     (10 if x == 'On Time' else\n",
    "      (5 if x == 'Dispatched 30min-1hr late' else\n",
    "       (3 if x == 'Dispatched 1hr-2hrs late' else 1))\n",
    "    )\n",
    "    )\n",
    "))\n",
    "\n",
    "driver_Dispatch_performance = df.groupby('Driver').agg(\n",
    "    Number_of_Routes=pd.NamedAgg(column='Dispatch Variance Category', aggfunc='count'),\n",
    "    Driver_Score_Dispatch=pd.NamedAgg(column='Driver_Score_Dispatch', aggfunc='sum')\n",
    ")\n",
    "\n",
    "# Calculate the driver score as a percentage\n",
    "driver_Dispatch_performance['Driver_Score_Percentage'] = (driver_Dispatch_performance['Driver_Score_Dispatch'] /\n",
    "                                                  (driver_Dispatch_performance['Number_of_Routes']*10))*100\n",
    "\n",
    "# Sort the results by the number of routes in descending order\n",
    "driver_Dispatch_performance = driver_Dispatch_performance.sort_values(by='Number_of_Routes', ascending=False)\n",
    "\n",
    "# Display the results\n",
    "print(driver_Dispatch_performance)"
   ]
  },
  {
   "cell_type": "code",
   "execution_count": null,
   "id": "29912c69",
   "metadata": {},
   "outputs": [],
   "source": []
  },
  {
   "cell_type": "code",
   "execution_count": 22,
   "id": "4a639825",
   "metadata": {},
   "outputs": [
    {
     "name": "stdout",
     "output_type": "stream",
     "text": [
      "                     Number_of_Routes  Driver_Score_Return  \\\n",
      "Driver                                                       \n",
      "SINDILE TSHAYINYONI               206                  125   \n",
      "DAVID NHLANH MZOBE                203                   78   \n",
      "LUCKY KHANYILE                    188                  265   \n",
      "THANDO MKHIZE                     181                  332   \n",
      "Andile Siziba                     177                   55   \n",
      "...                               ...                  ...   \n",
      "XOLANI NENE                         5                   31   \n",
      "MARK MOODLEY                        4                    1   \n",
      "GODFREY BUTHELEZI                   4                   11   \n",
      "DECEMBER MORAJANE                   3                   20   \n",
      "JABULANI Nkosi                      1                    1   \n",
      "\n",
      "                     Driver_Return_Score_Percentage  \n",
      "Driver                                               \n",
      "SINDILE TSHAYINYONI                       88.300971  \n",
      "DAVID NHLANH MZOBE                        79.704433  \n",
      "LUCKY KHANYILE                            79.468085  \n",
      "THANDO MKHIZE                             86.132597  \n",
      "Andile Siziba                             85.932203  \n",
      "...                                             ...  \n",
      "XOLANI NENE                              100.000000  \n",
      "MARK MOODLEY                              65.000000  \n",
      "GODFREY BUTHELEZI                         57.500000  \n",
      "DECEMBER MORAJANE                         76.666667  \n",
      "JABULANI Nkosi                            10.000000  \n",
      "\n",
      "[90 rows x 3 columns]\n"
     ]
    }
   ],
   "source": [
    "df['Driver_Score_Return'] = df['Depot Return Variance Category'].apply(\n",
    "    lambda x: 10 if x == 'Returned 2hrs+ Earlier' else\n",
    "    (10 if x == 'Returned 1-2 hrs early' else\n",
    "    (10 if x == 'Returned 30min-1hr early' else\n",
    "     (10 if x == 'On Time' else\n",
    "      (3 if x == 'Returned 30min-1hr late' else\n",
    "       (1 if x == 'Returned 1hr-2hrs late' else 0))\n",
    "    )\n",
    "    )\n",
    "))\n",
    "\n",
    "driver_Return_performance = df.groupby('Driver').agg(\n",
    "    Number_of_Routes=pd.NamedAgg(column='Depot Return Variance Category', aggfunc='count'),\n",
    "    Driver_Score_Return=pd.NamedAgg(column='Driver_Score_Return', aggfunc='sum')\n",
    ")\n",
    "\n",
    "# Calculate the driver score as a percentage\n",
    "driver_Return_performance['Driver_Return_Score_Percentage'] = (driver_Dispatch_performance['Driver_Score_Dispatch'] /\n",
    "                                                  (driver_Dispatch_performance['Number_of_Routes']*10))*100\n",
    "\n",
    "# Sort the results by the number of routes in descending order\n",
    "driver_Return_performance = driver_Return_performance.sort_values(by='Number_of_Routes', ascending=False)\n",
    "\n",
    "# Display the results\n",
    "print(driver_Return_performance)\n",
    "\n",
    " "
   ]
  },
  {
   "cell_type": "code",
   "execution_count": 23,
   "id": "73c1d35b",
   "metadata": {},
   "outputs": [
    {
     "name": "stdout",
     "output_type": "stream",
     "text": [
      "                     Number_of_Routes  Driver_Score_TAT  \\\n",
      "Driver                                                    \n",
      "SINDILE TSHAYINYONI               206              1123   \n",
      "DAVID NHLANH MZOBE                203              1225   \n",
      "LUCKY KHANYILE                    188               839   \n",
      "THANDO MKHIZE                     181               871   \n",
      "Andile Siziba                     177               998   \n",
      "...                               ...               ...   \n",
      "XOLANI NENE                         5                28   \n",
      "MARK MOODLEY                        4                29   \n",
      "GODFREY BUTHELEZI                   4                16   \n",
      "DECEMBER MORAJANE                   3                19   \n",
      "JABULANI Nkosi                      1                 8   \n",
      "\n",
      "                     Driver_TAT_Score_Percentage  \n",
      "Driver                                            \n",
      "SINDILE TSHAYINYONI                    54.514563  \n",
      "DAVID NHLANH MZOBE                     60.344828  \n",
      "LUCKY KHANYILE                         44.627660  \n",
      "THANDO MKHIZE                          48.121547  \n",
      "Andile Siziba                          56.384181  \n",
      "...                                          ...  \n",
      "XOLANI NENE                            56.000000  \n",
      "MARK MOODLEY                           72.500000  \n",
      "GODFREY BUTHELEZI                      40.000000  \n",
      "DECEMBER MORAJANE                      63.333333  \n",
      "JABULANI Nkosi                         80.000000  \n",
      "\n",
      "[90 rows x 3 columns]                      Number_of_Routes  Driver_Score_Return  \\\n",
      "Driver                                                       \n",
      "SINDILE TSHAYINYONI               206                  125   \n",
      "DAVID NHLANH MZOBE                203                   78   \n",
      "LUCKY KHANYILE                    188                  265   \n",
      "THANDO MKHIZE                     181                  332   \n",
      "Andile Siziba                     177                   55   \n",
      "...                               ...                  ...   \n",
      "XOLANI NENE                         5                   31   \n",
      "MARK MOODLEY                        4                    1   \n",
      "GODFREY BUTHELEZI                   4                   11   \n",
      "DECEMBER MORAJANE                   3                   20   \n",
      "JABULANI Nkosi                      1                    1   \n",
      "\n",
      "                     Driver_Return_Score_Percentage  \n",
      "Driver                                               \n",
      "SINDILE TSHAYINYONI                       88.300971  \n",
      "DAVID NHLANH MZOBE                        79.704433  \n",
      "LUCKY KHANYILE                            79.468085  \n",
      "THANDO MKHIZE                             86.132597  \n",
      "Andile Siziba                             85.932203  \n",
      "...                                             ...  \n",
      "XOLANI NENE                              100.000000  \n",
      "MARK MOODLEY                              65.000000  \n",
      "GODFREY BUTHELEZI                         57.500000  \n",
      "DECEMBER MORAJANE                         76.666667  \n",
      "JABULANI Nkosi                            10.000000  \n",
      "\n",
      "[90 rows x 3 columns]                      Number_of_Routes  Driver_Score_Dispatch  \\\n",
      "Driver                                                         \n",
      "SINDILE TSHAYINYONI               206                   1819   \n",
      "DAVID NHLANH MZOBE                203                   1618   \n",
      "LUCKY KHANYILE                    188                   1494   \n",
      "THANDO MKHIZE                     181                   1559   \n",
      "Andile Siziba                     177                   1521   \n",
      "...                               ...                    ...   \n",
      "XOLANI NENE                         5                     50   \n",
      "MARK MOODLEY                        4                     26   \n",
      "GODFREY BUTHELEZI                   4                     23   \n",
      "DECEMBER MORAJANE                   3                     23   \n",
      "JABULANI Nkosi                      1                      1   \n",
      "\n",
      "                     Driver_Score_Percentage  \n",
      "Driver                                        \n",
      "SINDILE TSHAYINYONI                88.300971  \n",
      "DAVID NHLANH MZOBE                 79.704433  \n",
      "LUCKY KHANYILE                     79.468085  \n",
      "THANDO MKHIZE                      86.132597  \n",
      "Andile Siziba                      85.932203  \n",
      "...                                      ...  \n",
      "XOLANI NENE                       100.000000  \n",
      "MARK MOODLEY                       65.000000  \n",
      "GODFREY BUTHELEZI                  57.500000  \n",
      "DECEMBER MORAJANE                  76.666667  \n",
      "JABULANI Nkosi                     10.000000  \n",
      "\n",
      "[90 rows x 3 columns]\n"
     ]
    }
   ],
   "source": [
    "df['Driver_TAT_Score'] = df['TAT Variance Category'].apply(\n",
    "    lambda x: 10 if x == '0 <TAT <=30' else\n",
    "    (8 if x == '30 <TAT <=60' else\n",
    "    (5 if x == '60 <TAT <=120' else\n",
    "     (3 if x == '120 <TAT <=180' else\n",
    "      (1 if x == '180 <TAT <=240' else 0)\n",
    "    )\n",
    "    )\n",
    "))\n",
    "\n",
    "driver_TAT_performance = df.groupby('Driver').agg(\n",
    "    Number_of_Routes=pd.NamedAgg(column='TAT Variance Category', aggfunc='count'),\n",
    "    Driver_Score_TAT=pd.NamedAgg(column='Driver_TAT_Score', aggfunc='sum')\n",
    ")\n",
    "\n",
    "# Calculate the driver score as a percentage\n",
    "driver_TAT_performance['Driver_TAT_Score_Percentage'] = (driver_TAT_performance['Driver_Score_TAT'] /\n",
    "                                                  (driver_TAT_performance['Number_of_Routes']*10))*100\n",
    "\n",
    "# Sort the results by the number of routes in descending order\n",
    "driver_TAT_performance = driver_TAT_performance.sort_values(by='Number_of_Routes', ascending=False)\n",
    "\n",
    "# Display the results\n",
    "print(driver_TAT_performance, driver_Return_performance, driver_Dispatch_performance)\n"
   ]
  },
  {
   "cell_type": "code",
   "execution_count": 24,
   "id": "7818c521",
   "metadata": {},
   "outputs": [
    {
     "name": "stdout",
     "output_type": "stream",
     "text": [
      "                 Driver  Number_of_Routes  Number_of_Routes  Number_of_Routes  \\\n",
      "0          HIRESH BAJAN                81                81                81   \n",
      "1        WEBSTER STUART                21                21                21   \n",
      "2           Gars Khanye               111               111               111   \n",
      "3   CHRISTOPHER MUNSAMY                77                77                77   \n",
      "4         THOMAS SIBIYA                88                88                88   \n",
      "..                  ...               ...               ...               ...   \n",
      "85           DANE JAMES                43                43                43   \n",
      "86      PETROS KHANYILE                50                50                50   \n",
      "87    GODFREY BUTHELEZI                 4                 4                 4   \n",
      "88     MFANAFUTHI MSANE                 6                 6                 6   \n",
      "89       JABULANI Nkosi                 1                 1                 1   \n",
      "\n",
      "    Total_Weighted_Score  \n",
      "0              91.234568  \n",
      "1              86.952381  \n",
      "2              86.720721  \n",
      "3              86.441558  \n",
      "4              85.840909  \n",
      "..                   ...  \n",
      "85             55.441860  \n",
      "86             50.640000  \n",
      "87             50.500000  \n",
      "88             44.666667  \n",
      "89             38.000000  \n",
      "\n",
      "[90 rows x 5 columns]\n"
     ]
    }
   ],
   "source": [
    "# Calculate the weighted score for each driver in each performance category\n",
    "driver_TAT_performance['Weighted_Score_TAT'] = (driver_TAT_performance['Driver_TAT_Score_Percentage'] * 0.4)\n",
    "driver_Return_performance['Weighted_Score_Return'] = (driver_Return_performance['Driver_Return_Score_Percentage'] * 0.3)\n",
    "driver_Dispatch_performance['Weighted_Score_Dispatch'] = (driver_Dispatch_performance['Driver_Score_Percentage'] * 0.3)\n",
    "\n",
    "# Combine the three DataFrames into one, using the 'Driver' column as the index\n",
    "driver_combined_performance = pd.concat([driver_TAT_performance, driver_Return_performance, driver_Dispatch_performance], axis=1)\n",
    "\n",
    "# Calculate the total weighted score by summing the scores from each category\n",
    "driver_combined_performance['Total_Weighted_Score'] = (\n",
    "    driver_combined_performance['Weighted_Score_TAT'] +\n",
    "    driver_combined_performance['Weighted_Score_Return'] +\n",
    "    driver_combined_performance['Weighted_Score_Dispatch']\n",
    ")\n",
    "\n",
    "# Select the relevant columns for the final DataFrame\n",
    "weighted_score_df = driver_combined_performance[['Number_of_Routes', 'Total_Weighted_Score']]\n",
    "\n",
    "# Sort drivers by their total weighted scores in descending order\n",
    "weighted_score_df = weighted_score_df.sort_values(by='Total_Weighted_Score', ascending=False)\n",
    "\n",
    "# Reset the index to have a clean index without duplicate driver names\n",
    "weighted_score_df.reset_index(inplace=True)\n",
    "\n",
    "# Display the results\n",
    "print(weighted_score_df)\n"
   ]
  },
  {
   "cell_type": "code",
   "execution_count": 25,
   "id": "c60e1be5",
   "metadata": {},
   "outputs": [
    {
     "name": "stdout",
     "output_type": "stream",
     "text": [
      "                                  Driver  Weighted_Score  Number_of_Routes\n",
      "Driver                                                                    \n",
      "HIRESH BAJAN                HIRESH BAJAN       91.234568                81\n",
      "WEBSTER STUART            WEBSTER STUART       86.952381                21\n",
      " Gars Khanye                 Gars Khanye       86.720721               111\n",
      "CHRISTOPHER MUNSAMY  CHRISTOPHER MUNSAMY       86.441558                77\n",
      "THOMAS SIBIYA              THOMAS SIBIYA       85.840909                88\n",
      "...                                  ...             ...               ...\n",
      "DANE JAMES                    DANE JAMES       55.441860                43\n",
      "PETROS KHANYILE          PETROS KHANYILE       50.640000                50\n",
      "GODFREY BUTHELEZI      GODFREY BUTHELEZI       50.500000                 4\n",
      "MFANAFUTHI MSANE        MFANAFUTHI MSANE       44.666667                 6\n",
      "JABULANI Nkosi            JABULANI Nkosi       38.000000                 1\n",
      "\n",
      "[90 rows x 3 columns]\n"
     ]
    }
   ],
   "source": [
    "# Calculate the weighted score for each driver\n",
    "weighted_score = (\n",
    "    (driver_TAT_performance['Driver_TAT_Score_Percentage'] * 0.4) +\n",
    "    (driver_Return_performance['Driver_Return_Score_Percentage'] * 0.3) +\n",
    "    (driver_Dispatch_performance['Driver_Score_Percentage'] * 0.3)\n",
    ")\n",
    "\n",
    "# Create a DataFrame with driver names, weighted scores, and number of routes\n",
    "weighted_score_df = pd.DataFrame({\n",
    "    'Driver': driver_TAT_performance.index,  # Use the index (driver names) as the 'Driver' column\n",
    "    'Weighted_Score': weighted_score,\n",
    "    'Number_of_Routes': driver_TAT_performance['Number_of_Routes']  # Add the number of routes\n",
    "})\n",
    "\n",
    "# Sort drivers by their weighted scores\n",
    "weighted_score_df = weighted_score_df.sort_values(by='Weighted_Score', ascending=False)\n",
    "\n",
    "# Display the results\n",
    "print(weighted_score_df)\n"
   ]
  },
  {
   "cell_type": "code",
   "execution_count": null,
   "id": "c3bb9203",
   "metadata": {},
   "outputs": [],
   "source": []
  }
 ],
 "metadata": {
  "kernelspec": {
   "display_name": "Python 3 (ipykernel)",
   "language": "python",
   "name": "python3"
  },
  "language_info": {
   "codemirror_mode": {
    "name": "ipython",
    "version": 3
   },
   "file_extension": ".py",
   "mimetype": "text/x-python",
   "name": "python",
   "nbconvert_exporter": "python",
   "pygments_lexer": "ipython3",
   "version": "3.9.13"
  }
 },
 "nbformat": 4,
 "nbformat_minor": 5
}
